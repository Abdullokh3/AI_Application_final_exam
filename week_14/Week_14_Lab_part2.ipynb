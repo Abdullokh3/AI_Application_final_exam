{
  "nbformat": 4,
  "nbformat_minor": 0,
  "metadata": {
    "colab": {
      "provenance": [],
      "authorship_tag": "ABX9TyOOr656m8ys2JamykLCI9uy",
      "include_colab_link": true
    },
    "kernelspec": {
      "name": "python3",
      "display_name": "Python 3"
    },
    "language_info": {
      "name": "python"
    },
    "accelerator": "GPU",
    "gpuClass": "standard"
  },
  "cells": [
    {
      "cell_type": "markdown",
      "metadata": {
        "id": "view-in-github",
        "colab_type": "text"
      },
      "source": [
        "<a href=\"https://colab.research.google.com/github/Abdullokh3/AI_Application_final_exam/blob/main/week_14/Week_14_Lab_part2.ipynb\" target=\"_parent\"><img src=\"https://colab.research.google.com/assets/colab-badge.svg\" alt=\"Open In Colab\"/></a>"
      ]
    },
    {
      "cell_type": "markdown",
      "source": [
        "This is a companion notebook for the book Deep Learning with Python, Second Edition. For readability, it only contains runnable code blocks and section titles, and omits everything else in the book: text paragraphs, figures, and pseudocode.\n",
        "\n",
        "**If you want to be able to follow what's going on, I recommend reading the notebook side by side with your copy of the book.**\n",
        " \n",
        "## **Beyond text classification: Sequence-to-sequence learning**\n",
        "\n",
        " **A machine translation example**"
      ],
      "metadata": {
        "id": "lXgS4Wb0IysG"
      }
    },
    {
      "cell_type": "code",
      "execution_count": 1,
      "metadata": {
        "colab": {
          "base_uri": "https://localhost:8080/"
        },
        "id": "iAvAkNOkIa4D",
        "outputId": "ce08cd71-98c3-4f5a-85da-e886eae54330"
      },
      "outputs": [
        {
          "output_type": "stream",
          "name": "stdout",
          "text": [
            "--2022-12-08 14:39:31--  http://storage.googleapis.com/download.tensorflow.org/data/spa-eng.zip\n",
            "Resolving storage.googleapis.com (storage.googleapis.com)... 74.125.200.128, 142.250.4.128, 74.125.24.128, ...\n",
            "Connecting to storage.googleapis.com (storage.googleapis.com)|74.125.200.128|:80... connected.\n",
            "HTTP request sent, awaiting response... 200 OK\n",
            "Length: 2638744 (2.5M) [application/zip]\n",
            "Saving to: ‘spa-eng.zip’\n",
            "\n",
            "spa-eng.zip         100%[===================>]   2.52M  2.23MB/s    in 1.1s    \n",
            "\n",
            "2022-12-08 14:39:32 (2.23 MB/s) - ‘spa-eng.zip’ saved [2638744/2638744]\n",
            "\n"
          ]
        }
      ],
      "source": [
        "!wget http://storage.googleapis.com/download.tensorflow.org/data/spa-eng.zip\n",
        "!unzip -q spa-eng.zip\n"
      ]
    },
    {
      "cell_type": "code",
      "source": [
        "text_file = \"spa-eng/spa.txt\"\n",
        "with open(text_file) as f:\n",
        "    lines = f.read().split(\"\\n\")[:-1]\n",
        "text_pairs = []\n",
        "for line in lines:\n",
        "    english, spanish = line.split(\"\\t\")\n",
        "    spanish = \"[start] \" + spanish + \" [end]\"\n",
        "    text_pairs.append((english, spanish))\n",
        "\n"
      ],
      "metadata": {
        "id": "cVCI_6USLVyI"
      },
      "execution_count": 2,
      "outputs": []
    },
    {
      "cell_type": "markdown",
      "source": [
        "In week 14 Lab part 2 we will learn the Sequence-to-sequence learning. "
      ],
      "metadata": {
        "id": "L4D29jqvLfEB"
      }
    },
    {
      "cell_type": "code",
      "source": [
        "import random\n",
        "print(random.choice(text_pairs))\n"
      ],
      "metadata": {
        "colab": {
          "base_uri": "https://localhost:8080/"
        },
        "id": "0D-mRu-ULZTd",
        "outputId": "0ea16144-c941-4c7b-f700-ff29a3b4ca6e"
      },
      "execution_count": 3,
      "outputs": [
        {
          "output_type": "stream",
          "name": "stdout",
          "text": [
            "(\"Halley's Comet will come back in 2061.\", '[start] El cometa Halley volverá el 2061. [end]')\n"
          ]
        }
      ]
    },
    {
      "cell_type": "code",
      "source": [
        "\n",
        "import random\n",
        "random.shuffle(text_pairs)\n",
        "num_val_samples = int(0.15 * len(text_pairs))\n",
        "num_train_samples = len(text_pairs) - 2 * num_val_samples\n",
        "train_pairs = text_pairs[:num_train_samples]\n",
        "val_pairs = text_pairs[num_train_samples:num_train_samples + num_val_samples]\n",
        "test_pairs = text_pairs[num_train_samples + num_val_samples:]\n"
      ],
      "metadata": {
        "id": "inFnhzVZLp5z"
      },
      "execution_count": 4,
      "outputs": []
    },
    {
      "cell_type": "markdown",
      "source": [
        "**Vectorizing the English and Spanish text pairs**"
      ],
      "metadata": {
        "id": "uBJQmbKUMBZG"
      }
    },
    {
      "cell_type": "code",
      "source": [
        "import tensorflow as tf\n",
        "import string\n",
        "import re\n",
        "from tensorflow.keras import layers\n",
        "\n",
        "strip_chars = string.punctuation + \"¿\"\n",
        "strip_chars = strip_chars.replace(\"[\", \"\")\n",
        "strip_chars = strip_chars.replace(\"]\", \"\")\n",
        "\n",
        "def custom_standardization(input_string):\n",
        "    lowercase = tf.strings.lower(input_string)\n",
        "    return tf.strings.regex_replace(\n",
        "        lowercase, f\"[{re.escape(strip_chars)}]\", \"\")\n",
        "\n",
        "vocab_size = 15000\n",
        "sequence_length = 20\n",
        "\n",
        "source_vectorization = layers.TextVectorization(\n",
        "    max_tokens=vocab_size,\n",
        "    output_mode=\"int\",\n",
        "    output_sequence_length=sequence_length,\n",
        ")\n",
        "target_vectorization = layers.TextVectorization(\n",
        "    max_tokens=vocab_size,\n",
        "    output_mode=\"int\",\n",
        "    output_sequence_length=sequence_length + 1,\n",
        "    standardize=custom_standardization,\n",
        ")\n",
        "train_english_texts = [pair[0] for pair in train_pairs]\n",
        "train_spanish_texts = [pair[1] for pair in train_pairs]\n",
        "source_vectorization.adapt(train_english_texts)\n",
        "target_vectorization.adapt(train_spanish_texts)\n"
      ],
      "metadata": {
        "id": "dRJ0sH56LsB_"
      },
      "execution_count": 5,
      "outputs": []
    },
    {
      "cell_type": "markdown",
      "source": [
        "**Preparing datasets for the translation task**"
      ],
      "metadata": {
        "id": "71In2MHBMKhb"
      }
    },
    {
      "cell_type": "code",
      "source": [
        "batch_size = 64\n",
        "\n",
        "def format_dataset(eng, spa):\n",
        "    eng = source_vectorization(eng)\n",
        "    spa = target_vectorization(spa)\n",
        "    return ({\n",
        "        \"english\": eng,\n",
        "        \"spanish\": spa[:, :-1],\n",
        "    }, spa[:, 1:])\n",
        "\n",
        "def make_dataset(pairs):\n",
        "    eng_texts, spa_texts = zip(*pairs)\n",
        "    eng_texts = list(eng_texts)\n",
        "    spa_texts = list(spa_texts)\n",
        "    dataset = tf.data.Dataset.from_tensor_slices((eng_texts, spa_texts))\n",
        "    dataset = dataset.batch(batch_size)\n",
        "    dataset = dataset.map(format_dataset, num_parallel_calls=4)\n",
        "    return dataset.shuffle(2048).prefetch(16).cache()\n",
        "\n",
        "train_ds = make_dataset(train_pairs)\n",
        "val_ds = make_dataset(val_pairs)\n"
      ],
      "metadata": {
        "id": "wevnVL-fL9OP"
      },
      "execution_count": 6,
      "outputs": []
    },
    {
      "cell_type": "code",
      "source": [
        "for inputs, targets in train_ds.take(1):\n",
        "    print(f\"inputs['english'].shape: {inputs['english'].shape}\")\n",
        "    print(f\"inputs['spanish'].shape: {inputs['spanish'].shape}\")\n",
        "    print(f\"targets.shape: {targets.shape}\")\n"
      ],
      "metadata": {
        "colab": {
          "base_uri": "https://localhost:8080/"
        },
        "id": "jK94iqRjMIz3",
        "outputId": "b42567a9-d6dc-4fa1-95fd-b640b996cbe2"
      },
      "execution_count": 7,
      "outputs": [
        {
          "output_type": "stream",
          "name": "stdout",
          "text": [
            "inputs['english'].shape: (64, 20)\n",
            "inputs['spanish'].shape: (64, 20)\n",
            "targets.shape: (64, 20)\n"
          ]
        }
      ]
    },
    {
      "cell_type": "markdown",
      "source": [
        "## **Sequence-to-sequence learning with RNNs**\n",
        "\n",
        "**GRU-based encoder**"
      ],
      "metadata": {
        "id": "Od2I8X4mMVmT"
      }
    },
    {
      "cell_type": "code",
      "source": [
        "from tensorflow import keras\n",
        "from tensorflow.keras import layers\n",
        "\n",
        "embed_dim = 256\n",
        "latent_dim = 1024\n",
        "\n",
        "source = keras.Input(shape=(None,), dtype=\"int64\", name=\"english\")\n",
        "x = layers.Embedding(vocab_size, embed_dim, mask_zero=True)(source)\n",
        "encoded_source = layers.Bidirectional(\n",
        "    layers.GRU(latent_dim), merge_mode=\"sum\")(x)\n"
      ],
      "metadata": {
        "id": "t0Cp5d5xMRGf"
      },
      "execution_count": 8,
      "outputs": []
    },
    {
      "cell_type": "markdown",
      "source": [
        "**GRU-based decoder and the end-to-end model**"
      ],
      "metadata": {
        "id": "MNU1O-CKMude"
      }
    },
    {
      "cell_type": "code",
      "source": [
        "past_target = keras.Input(shape=(None,), dtype=\"int64\", name=\"spanish\")\n",
        "x = layers.Embedding(vocab_size, embed_dim, mask_zero=True)(past_target)\n",
        "decoder_gru = layers.GRU(latent_dim, return_sequences=True)\n",
        "x = decoder_gru(x, initial_state=encoded_source)\n",
        "x = layers.Dropout(0.5)(x)\n",
        "target_next_step = layers.Dense(vocab_size, activation=\"softmax\")(x)\n",
        "seq2seq_rnn = keras.Model([source, past_target], target_next_step)\n"
      ],
      "metadata": {
        "id": "Dq9H1pKQMrRU"
      },
      "execution_count": 9,
      "outputs": []
    },
    {
      "cell_type": "markdown",
      "source": [
        "**Training our recurrent sequence-to-sequence model**"
      ],
      "metadata": {
        "id": "tIvuuJE6M0kf"
      }
    },
    {
      "cell_type": "code",
      "source": [
        "seq2seq_rnn.compile(\n",
        "    optimizer=\"rmsprop\",\n",
        "    loss=\"sparse_categorical_crossentropy\",\n",
        "    metrics=[\"accuracy\"])\n",
        "seq2seq_rnn.fit(train_ds, epochs=15, validation_data=val_ds)\n"
      ],
      "metadata": {
        "colab": {
          "base_uri": "https://localhost:8080/"
        },
        "id": "jWgWf7vrMxq-",
        "outputId": "aca01a32-4f47-4400-94bc-422e259f8f74"
      },
      "execution_count": 10,
      "outputs": [
        {
          "output_type": "stream",
          "name": "stdout",
          "text": [
            "Epoch 1/15\n",
            "1302/1302 [==============================] - 136s 92ms/step - loss: 1.6340 - accuracy: 0.4181 - val_loss: 1.3235 - val_accuracy: 0.5018\n",
            "Epoch 2/15\n",
            "1302/1302 [==============================] - 116s 89ms/step - loss: 1.3135 - accuracy: 0.5275 - val_loss: 1.1650 - val_accuracy: 0.5657\n",
            "Epoch 3/15\n",
            "1302/1302 [==============================] - 116s 89ms/step - loss: 1.1717 - accuracy: 0.5769 - val_loss: 1.0818 - val_accuracy: 0.5975\n",
            "Epoch 4/15\n",
            "1302/1302 [==============================] - 117s 90ms/step - loss: 1.0806 - accuracy: 0.6092 - val_loss: 1.0488 - val_accuracy: 0.6149\n",
            "Epoch 5/15\n",
            "1302/1302 [==============================] - 116s 89ms/step - loss: 1.0345 - accuracy: 0.6333 - val_loss: 1.0303 - val_accuracy: 0.6272\n",
            "Epoch 6/15\n",
            "1302/1302 [==============================] - 117s 90ms/step - loss: 1.0034 - accuracy: 0.6516 - val_loss: 1.0290 - val_accuracy: 0.6315\n",
            "Epoch 7/15\n",
            "1302/1302 [==============================] - 117s 90ms/step - loss: 0.9836 - accuracy: 0.6651 - val_loss: 1.0260 - val_accuracy: 0.6351\n",
            "Epoch 8/15\n",
            "1302/1302 [==============================] - 117s 89ms/step - loss: 0.9700 - accuracy: 0.6758 - val_loss: 1.0292 - val_accuracy: 0.6378\n",
            "Epoch 9/15\n",
            "1302/1302 [==============================] - 116s 89ms/step - loss: 0.9595 - accuracy: 0.6834 - val_loss: 1.0332 - val_accuracy: 0.6388\n",
            "Epoch 10/15\n",
            "1302/1302 [==============================] - 117s 90ms/step - loss: 0.9518 - accuracy: 0.6894 - val_loss: 1.0332 - val_accuracy: 0.6401\n",
            "Epoch 11/15\n",
            "1302/1302 [==============================] - 116s 89ms/step - loss: 0.9457 - accuracy: 0.6942 - val_loss: 1.0379 - val_accuracy: 0.6406\n",
            "Epoch 12/15\n",
            "1302/1302 [==============================] - 116s 89ms/step - loss: 0.9416 - accuracy: 0.6972 - val_loss: 1.0396 - val_accuracy: 0.6411\n",
            "Epoch 13/15\n",
            "1302/1302 [==============================] - 116s 89ms/step - loss: 0.9394 - accuracy: 0.6993 - val_loss: 1.0412 - val_accuracy: 0.6411\n",
            "Epoch 14/15\n",
            "1302/1302 [==============================] - 117s 90ms/step - loss: 0.9376 - accuracy: 0.7012 - val_loss: 1.0432 - val_accuracy: 0.6418\n",
            "Epoch 15/15\n",
            "1302/1302 [==============================] - 117s 89ms/step - loss: 0.9369 - accuracy: 0.7017 - val_loss: 1.0452 - val_accuracy: 0.6419\n"
          ]
        },
        {
          "output_type": "execute_result",
          "data": {
            "text/plain": [
              "<keras.callbacks.History at 0x7f913d52e700>"
            ]
          },
          "metadata": {},
          "execution_count": 10
        }
      ]
    },
    {
      "cell_type": "markdown",
      "source": [
        "**Translating new sentences with our RNN encoder and decoder**"
      ],
      "metadata": {
        "id": "Jg-0QOL0UvFl"
      }
    },
    {
      "cell_type": "code",
      "source": [
        "\n",
        "import numpy as np\n",
        "spa_vocab = target_vectorization.get_vocabulary()\n",
        "spa_index_lookup = dict(zip(range(len(spa_vocab)), spa_vocab))\n",
        "max_decoded_sentence_length = 20\n",
        "\n",
        "def decode_sequence(input_sentence):\n",
        "    tokenized_input_sentence = source_vectorization([input_sentence])\n",
        "    decoded_sentence = \"[start]\"\n",
        "    for i in range(max_decoded_sentence_length):\n",
        "        tokenized_target_sentence = target_vectorization([decoded_sentence])\n",
        "        next_token_predictions = seq2seq_rnn.predict(\n",
        "            [tokenized_input_sentence, tokenized_target_sentence])\n",
        "        sampled_token_index = np.argmax(next_token_predictions[0, i, :])\n",
        "        sampled_token = spa_index_lookup[sampled_token_index]\n",
        "        decoded_sentence += \" \" + sampled_token\n",
        "        if sampled_token == \"[end]\":\n",
        "            break\n",
        "    return decoded_sentence\n",
        "\n",
        "test_eng_texts = [pair[0] for pair in test_pairs]\n",
        "for _ in range(20):\n",
        "    input_sentence = random.choice(test_eng_texts)\n",
        "    print(\"-\")\n",
        "    print(input_sentence)\n",
        "    print(decode_sequence(input_sentence))\n",
        "\n",
        "\n",
        "     "
      ],
      "metadata": {
        "colab": {
          "base_uri": "https://localhost:8080/"
        },
        "id": "eYY_pTUaM4LO",
        "outputId": "86832c60-fb79-4e03-f6fe-79a44a5dbfac"
      },
      "execution_count": 11,
      "outputs": [
        {
          "output_type": "stream",
          "name": "stdout",
          "text": [
            "-\n",
            "You can invite other people.\n",
            "1/1 [==============================] - 3s 3s/step\n",
            "1/1 [==============================] - 0s 20ms/step\n",
            "1/1 [==============================] - 0s 19ms/step\n",
            "1/1 [==============================] - 0s 18ms/step\n",
            "[start] puedes puedes personas [end]\n",
            "-\n",
            "You are prohibited from smoking here.\n",
            "1/1 [==============================] - 0s 20ms/step\n",
            "1/1 [==============================] - 0s 19ms/step\n",
            "1/1 [==============================] - 0s 21ms/step\n",
            "1/1 [==============================] - 0s 20ms/step\n",
            "1/1 [==============================] - 0s 21ms/step\n",
            "1/1 [==============================] - 0s 20ms/step\n",
            "[start] tú estás de fumar aquí [end]\n",
            "-\n",
            "Tom had some money stolen from his tent.\n",
            "1/1 [==============================] - 0s 21ms/step\n",
            "1/1 [==============================] - 0s 18ms/step\n",
            "1/1 [==============================] - 0s 20ms/step\n",
            "1/1 [==============================] - 0s 19ms/step\n",
            "1/1 [==============================] - 0s 20ms/step\n",
            "1/1 [==============================] - 0s 20ms/step\n",
            "1/1 [==============================] - 0s 24ms/step\n",
            "1/1 [==============================] - 0s 20ms/step\n",
            "1/1 [==============================] - 0s 19ms/step\n",
            "1/1 [==============================] - 0s 25ms/step\n",
            "[start] tom tenía algo de dinero a su de no [end]\n",
            "-\n",
            "He was exhausted when he got home.\n",
            "1/1 [==============================] - 0s 22ms/step\n",
            "1/1 [==============================] - 0s 18ms/step\n",
            "1/1 [==============================] - 0s 19ms/step\n",
            "1/1 [==============================] - 0s 21ms/step\n",
            "1/1 [==============================] - 0s 25ms/step\n",
            "1/1 [==============================] - 0s 21ms/step\n",
            "1/1 [==============================] - 0s 22ms/step\n",
            "[start] Él estaba [UNK] cuando se casa [end]\n",
            "-\n",
            "He doesn't show his true feelings.\n",
            "1/1 [==============================] - 0s 20ms/step\n",
            "1/1 [==============================] - 0s 19ms/step\n",
            "1/1 [==============================] - 0s 20ms/step\n",
            "1/1 [==============================] - 0s 22ms/step\n",
            "1/1 [==============================] - 0s 19ms/step\n",
            "1/1 [==============================] - 0s 19ms/step\n",
            "1/1 [==============================] - 0s 21ms/step\n",
            "1/1 [==============================] - 0s 19ms/step\n",
            "[start] Él no le [UNK] sus sus errores [end]\n",
            "-\n",
            "Accidents happen.\n",
            "1/1 [==============================] - 0s 19ms/step\n",
            "1/1 [==============================] - 0s 18ms/step\n",
            "1/1 [==============================] - 0s 21ms/step\n",
            "1/1 [==============================] - 0s 18ms/step\n",
            "[start] los [UNK] [UNK] [end]\n",
            "-\n",
            "I have ten times as many books as you have.\n",
            "1/1 [==============================] - 0s 23ms/step\n",
            "1/1 [==============================] - 0s 25ms/step\n",
            "1/1 [==============================] - 0s 23ms/step\n",
            "1/1 [==============================] - 0s 22ms/step\n",
            "1/1 [==============================] - 0s 22ms/step\n",
            "1/1 [==============================] - 0s 20ms/step\n",
            "1/1 [==============================] - 0s 20ms/step\n",
            "1/1 [==============================] - 0s 22ms/step\n",
            "[start] tengo cuatro años más grande que tú [end]\n",
            "-\n",
            "He is what is called a self-made man.\n",
            "1/1 [==============================] - 0s 19ms/step\n",
            "1/1 [==============================] - 0s 21ms/step\n",
            "1/1 [==============================] - 0s 43ms/step\n",
            "1/1 [==============================] - 0s 44ms/step\n",
            "1/1 [==============================] - 0s 40ms/step\n",
            "1/1 [==============================] - 0s 31ms/step\n",
            "1/1 [==============================] - 0s 31ms/step\n",
            "1/1 [==============================] - 0s 27ms/step\n",
            "1/1 [==============================] - 0s 29ms/step\n",
            "1/1 [==============================] - 0s 27ms/step\n",
            "1/1 [==============================] - 0s 28ms/step\n",
            "[start] Él es lo que se le ha [UNK] un hombre [end]\n",
            "-\n",
            "Tom put a tape in the VCR.\n",
            "1/1 [==============================] - 0s 30ms/step\n",
            "1/1 [==============================] - 0s 28ms/step\n",
            "1/1 [==============================] - 0s 27ms/step\n",
            "1/1 [==============================] - 0s 28ms/step\n",
            "1/1 [==============================] - 0s 28ms/step\n",
            "1/1 [==============================] - 0s 40ms/step\n",
            "1/1 [==============================] - 0s 28ms/step\n",
            "1/1 [==============================] - 0s 55ms/step\n",
            "[start] tom puso una [UNK] en la [UNK] [end]\n",
            "-\n",
            "I need something to write with.\n",
            "1/1 [==============================] - 0s 30ms/step\n",
            "1/1 [==============================] - 0s 32ms/step\n",
            "1/1 [==============================] - 0s 28ms/step\n",
            "1/1 [==============================] - 0s 29ms/step\n",
            "1/1 [==============================] - 0s 33ms/step\n",
            "1/1 [==============================] - 0s 39ms/step\n",
            "[start] necesito algo con que yo [end]\n",
            "-\n",
            "This is the longest novel that I have ever read.\n",
            "1/1 [==============================] - 0s 28ms/step\n",
            "1/1 [==============================] - 0s 27ms/step\n",
            "1/1 [==============================] - 0s 27ms/step\n",
            "1/1 [==============================] - 0s 38ms/step\n",
            "1/1 [==============================] - 0s 27ms/step\n",
            "1/1 [==============================] - 0s 31ms/step\n",
            "1/1 [==============================] - 0s 45ms/step\n",
            "1/1 [==============================] - 0s 38ms/step\n",
            "1/1 [==============================] - 0s 35ms/step\n",
            "1/1 [==============================] - 0s 34ms/step\n",
            "1/1 [==============================] - 0s 32ms/step\n",
            "1/1 [==============================] - 0s 30ms/step\n",
            "[start] este es el libro más que he oído que me [UNK] [end]\n",
            "-\n",
            "I almost didn't sing that song tonight.\n",
            "1/1 [==============================] - 0s 28ms/step\n",
            "1/1 [==============================] - 0s 30ms/step\n",
            "1/1 [==============================] - 0s 26ms/step\n",
            "1/1 [==============================] - 0s 40ms/step\n",
            "1/1 [==============================] - 0s 29ms/step\n",
            "1/1 [==============================] - 0s 32ms/step\n",
            "1/1 [==============================] - 0s 28ms/step\n",
            "1/1 [==============================] - 0s 29ms/step\n",
            "1/1 [==============================] - 0s 29ms/step\n",
            "1/1 [==============================] - 0s 36ms/step\n",
            "1/1 [==============================] - 0s 29ms/step\n",
            "[start] casi no me he oído esta canción de la noche [end]\n",
            "-\n",
            "The two ladies smiled at each other.\n",
            "1/1 [==============================] - 0s 21ms/step\n",
            "1/1 [==============================] - 0s 22ms/step\n",
            "1/1 [==============================] - 0s 22ms/step\n",
            "1/1 [==============================] - 0s 20ms/step\n",
            "1/1 [==============================] - 0s 21ms/step\n",
            "1/1 [==============================] - 0s 21ms/step\n",
            "1/1 [==============================] - 0s 22ms/step\n",
            "1/1 [==============================] - 0s 22ms/step\n",
            "1/1 [==============================] - 0s 25ms/step\n",
            "[start] las dos se [UNK] el uno al otro [end]\n",
            "-\n",
            "He is as old as my father.\n",
            "1/1 [==============================] - 0s 19ms/step\n",
            "1/1 [==============================] - 0s 21ms/step\n",
            "1/1 [==============================] - 0s 21ms/step\n",
            "1/1 [==============================] - 0s 21ms/step\n",
            "1/1 [==============================] - 0s 21ms/step\n",
            "1/1 [==============================] - 0s 19ms/step\n",
            "[start] Él es mi mayor mayor [end]\n",
            "-\n",
            "He wrote a sentence on the paper, but I didn't understand the sentence.\n",
            "1/1 [==============================] - 0s 22ms/step\n",
            "1/1 [==============================] - 0s 21ms/step\n",
            "1/1 [==============================] - 0s 20ms/step\n",
            "1/1 [==============================] - 0s 22ms/step\n",
            "1/1 [==============================] - 0s 21ms/step\n",
            "1/1 [==============================] - 0s 21ms/step\n",
            "1/1 [==============================] - 0s 23ms/step\n",
            "1/1 [==============================] - 0s 23ms/step\n",
            "1/1 [==============================] - 0s 21ms/step\n",
            "1/1 [==============================] - 0s 22ms/step\n",
            "1/1 [==============================] - 0s 22ms/step\n",
            "1/1 [==============================] - 0s 26ms/step\n",
            "[start] Él escribió una canción en el que pero no la [UNK] [end]\n",
            "-\n",
            "We see what we want to see.\n",
            "1/1 [==============================] - 0s 19ms/step\n",
            "1/1 [==============================] - 0s 20ms/step\n",
            "1/1 [==============================] - 0s 19ms/step\n",
            "1/1 [==============================] - 0s 22ms/step\n",
            "1/1 [==============================] - 0s 19ms/step\n",
            "1/1 [==============================] - 0s 21ms/step\n",
            "1/1 [==============================] - 0s 19ms/step\n",
            "[start] lo veo lo que es ver [end]\n",
            "-\n",
            "I guess Tom is running late.\n",
            "1/1 [==============================] - 0s 20ms/step\n",
            "1/1 [==============================] - 0s 20ms/step\n",
            "1/1 [==============================] - 0s 19ms/step\n",
            "1/1 [==============================] - 0s 20ms/step\n",
            "1/1 [==============================] - 0s 19ms/step\n",
            "1/1 [==============================] - 0s 21ms/step\n",
            "1/1 [==============================] - 0s 21ms/step\n",
            "1/1 [==============================] - 0s 19ms/step\n",
            "[start] supongo que tom se [UNK] a tarde [end]\n",
            "-\n",
            "That's Tom's apartment.\n",
            "1/1 [==============================] - 0s 19ms/step\n",
            "1/1 [==============================] - 0s 20ms/step\n",
            "1/1 [==============================] - 0s 19ms/step\n",
            "1/1 [==============================] - 0s 21ms/step\n",
            "1/1 [==============================] - 0s 21ms/step\n",
            "1/1 [==============================] - 0s 21ms/step\n",
            "1/1 [==============================] - 0s 20ms/step\n",
            "1/1 [==============================] - 0s 20ms/step\n",
            "[start] ese es el tom de un [UNK] [end]\n",
            "-\n",
            "At last, she solved the problem.\n",
            "1/1 [==============================] - 0s 19ms/step\n",
            "1/1 [==============================] - 0s 22ms/step\n",
            "1/1 [==============================] - 0s 21ms/step\n",
            "1/1 [==============================] - 0s 23ms/step\n",
            "1/1 [==============================] - 0s 22ms/step\n",
            "1/1 [==============================] - 0s 22ms/step\n",
            "[start] al fin ella la problema [end]\n",
            "-\n",
            "She looked after the patient.\n",
            "1/1 [==============================] - 0s 20ms/step\n",
            "1/1 [==============================] - 0s 20ms/step\n",
            "1/1 [==============================] - 0s 20ms/step\n",
            "1/1 [==============================] - 0s 19ms/step\n",
            "1/1 [==============================] - 0s 19ms/step\n",
            "1/1 [==============================] - 0s 20ms/step\n",
            "1/1 [==============================] - 0s 24ms/step\n",
            "1/1 [==============================] - 0s 19ms/step\n",
            "[start] ella miró al hombre de los decir [end]\n"
          ]
        }
      ]
    },
    {
      "cell_type": "markdown",
      "source": [
        "# **Sequence-to-sequence learning with Transformer**\n",
        "\n",
        "**The Transformer decoder**"
      ],
      "metadata": {
        "id": "to_ofxMjU4uu"
      }
    },
    {
      "cell_type": "code",
      "source": [
        "class TransformerDecoder(layers.Layer):\n",
        "    def __init__(self, embed_dim, dense_dim, num_heads, **kwargs):\n",
        "        super().__init__(**kwargs)\n",
        "        self.embed_dim = embed_dim\n",
        "        self.dense_dim = dense_dim\n",
        "        self.num_heads = num_heads\n",
        "        self.attention_1 = layers.MultiHeadAttention(\n",
        "            num_heads=num_heads, key_dim=embed_dim)\n",
        "        self.attention_2 = layers.MultiHeadAttention(\n",
        "            num_heads=num_heads, key_dim=embed_dim)\n",
        "        self.dense_proj = keras.Sequential(\n",
        "            [layers.Dense(dense_dim, activation=\"relu\"),\n",
        "             layers.Dense(embed_dim),]\n",
        "        )\n",
        "        self.layernorm_1 = layers.LayerNormalization()\n",
        "        self.layernorm_2 = layers.LayerNormalization()\n",
        "        self.layernorm_3 = layers.LayerNormalization()\n",
        "        self.supports_masking = True\n",
        "\n",
        "    def get_config(self):\n",
        "        config = super().get_config()\n",
        "        config.update({\n",
        "            \"embed_dim\": self.embed_dim,\n",
        "            \"num_heads\": self.num_heads,\n",
        "            \"dense_dim\": self.dense_dim,\n",
        "        })\n",
        "        return config\n",
        "\n",
        "    def get_causal_attention_mask(self, inputs):\n",
        "        input_shape = tf.shape(inputs)\n",
        "        batch_size, sequence_length = input_shape[0], input_shape[1]\n",
        "        i = tf.range(sequence_length)[:, tf.newaxis]\n",
        "        j = tf.range(sequence_length)\n",
        "        mask = tf.cast(i >= j, dtype=\"int32\")\n",
        "        mask = tf.reshape(mask, (1, input_shape[1], input_shape[1]))\n",
        "        mult = tf.concat(\n",
        "            [tf.expand_dims(batch_size, -1),\n",
        "             tf.constant([1, 1], dtype=tf.int32)], axis=0)\n",
        "        return tf.tile(mask, mult)\n",
        "\n",
        "    def call(self, inputs, encoder_outputs, mask=None):\n",
        "        causal_mask = self.get_causal_attention_mask(inputs)\n",
        "        if mask is not None:\n",
        "            padding_mask = tf.cast(\n",
        "                mask[:, tf.newaxis, :], dtype=\"int32\")\n",
        "            padding_mask = tf.minimum(padding_mask, causal_mask)\n",
        "        attention_output_1 = self.attention_1(\n",
        "            query=inputs,\n",
        "            value=inputs,\n",
        "            key=inputs,\n",
        "            attention_mask=causal_mask)\n",
        "        attention_output_1 = self.layernorm_1(inputs + attention_output_1)\n",
        "        attention_output_2 = self.attention_2(\n",
        "            query=attention_output_1,\n",
        "            value=encoder_outputs,\n",
        "            key=encoder_outputs,\n",
        "            attention_mask=padding_mask,\n",
        "        )\n",
        "        attention_output_2 = self.layernorm_2(\n",
        "            attention_output_1 + attention_output_2)\n",
        "        proj_output = self.dense_proj(attention_output_2)\n",
        "        return self.layernorm_3(attention_output_2 + proj_output)\n"
      ],
      "metadata": {
        "id": "yb4jWfqpUy_k"
      },
      "execution_count": 12,
      "outputs": []
    },
    {
      "cell_type": "markdown",
      "source": [
        "Sequence-to-sequence learning with RNNs, creating GRU-based encoder GRU-based decoder and the end-to-end model, we trained our recurrent sequence-to-sequence model. And then, Translating new sentences with our RNN encoder and decoder\n",
        "\n",
        "# **Putting it all together: A Transformer for machine translation**\n",
        "\n",
        "**PositionalEmbedding layer**"
      ],
      "metadata": {
        "id": "RikyglxHVI-H"
      }
    },
    {
      "cell_type": "code",
      "source": [
        "class PositionalEmbedding(layers.Layer):\n",
        "    def __init__(self, sequence_length, input_dim, output_dim, **kwargs):\n",
        "        super().__init__(**kwargs)\n",
        "        self.token_embeddings = layers.Embedding(\n",
        "            input_dim=input_dim, output_dim=output_dim)\n",
        "        self.position_embeddings = layers.Embedding(\n",
        "            input_dim=sequence_length, output_dim=output_dim)\n",
        "        self.sequence_length = sequence_length\n",
        "        self.input_dim = input_dim\n",
        "        self.output_dim = output_dim\n",
        "\n",
        "    def call(self, inputs):\n",
        "        length = tf.shape(inputs)[-1]\n",
        "        positions = tf.range(start=0, limit=length, delta=1)\n",
        "        embedded_tokens = self.token_embeddings(inputs)\n",
        "        embedded_positions = self.position_embeddings(positions)\n",
        "        return embedded_tokens + embedded_positions\n",
        "\n",
        "    def compute_mask(self, inputs, mask=None):\n",
        "        return tf.math.not_equal(inputs, 0)\n",
        "\n",
        "    def get_config(self):\n",
        "        config = super(PositionalEmbedding, self).get_config()\n",
        "        config.update({\n",
        "            \"output_dim\": self.output_dim,\n",
        "            \"sequence_length\": self.sequence_length,\n",
        "            \"input_dim\": self.input_dim,\n",
        "        })\n",
        "        return config"
      ],
      "metadata": {
        "id": "-s4DXSffVFzs"
      },
      "execution_count": 13,
      "outputs": []
    },
    {
      "cell_type": "markdown",
      "source": [
        "**End-to-end Transformer**"
      ],
      "metadata": {
        "id": "fr7Sx_bPVb_m"
      }
    },
    {
      "cell_type": "code",
      "source": [
        "class TransformerEncoder(layers.Layer):\n",
        "    def __init__(self, embed_dim, dense_dim, num_heads, **kwargs):\n",
        "        super().__init__(**kwargs)\n",
        "        self.embed_dim = embed_dim\n",
        "        self.dense_dim = dense_dim\n",
        "        self.num_heads = num_heads\n",
        "        self.attention = layers.MultiHeadAttention(\n",
        "            num_heads=num_heads, key_dim=embed_dim, dropout=0.3\n",
        "        )\n",
        "        self.dense_proj = keras.Sequential(\n",
        "            [layers.Dense(dense_dim, activation=tf.nn.gelu), layers.Dense(embed_dim),]\n",
        "        )\n",
        "        self.layernorm_1 = layers.LayerNormalization()\n",
        "        self.layernorm_2 = layers.LayerNormalization()\n",
        "\n",
        "    def call(self, inputs, mask=None):\n",
        "        if mask is not None:\n",
        "            mask = mask[:, tf.newaxis, :]\n",
        "\n",
        "        attention_output = self.attention(inputs, inputs, attention_mask=mask)\n",
        "        proj_input = self.layernorm_1(inputs + attention_output)\n",
        "        proj_output = self.dense_proj(proj_input)\n",
        "        return self.layernorm_2(proj_input + proj_output)\n"
      ],
      "metadata": {
        "id": "4RwgFbwmVZIO"
      },
      "execution_count": 14,
      "outputs": []
    },
    {
      "cell_type": "code",
      "source": [
        "embed_dim = 256\n",
        "dense_dim = 2048\n",
        "num_heads = 8\n",
        "\n",
        "encoder_inputs = keras.Input(shape=(None,), dtype=\"int64\", name=\"english\")\n",
        "x = PositionalEmbedding(sequence_length, vocab_size, embed_dim)(encoder_inputs)\n",
        "encoder_outputs = TransformerEncoder(embed_dim, dense_dim, num_heads)(x)\n",
        "\n",
        "decoder_inputs = keras.Input(shape=(None,), dtype=\"int64\", name=\"spanish\")\n",
        "x = PositionalEmbedding(sequence_length, vocab_size, embed_dim)(decoder_inputs)\n",
        "x = TransformerDecoder(embed_dim, dense_dim, num_heads)(x, encoder_outputs)\n",
        "x = layers.Dropout(0.5)(x)\n",
        "decoder_outputs = layers.Dense(vocab_size, activation=\"softmax\")(x)\n",
        "transformer = keras.Model([encoder_inputs, decoder_inputs], decoder_outputs)\n"
      ],
      "metadata": {
        "id": "OtDW_9sEVfph"
      },
      "execution_count": 15,
      "outputs": []
    },
    {
      "cell_type": "markdown",
      "source": [
        "**Training the sequence-to-sequence Transformer**"
      ],
      "metadata": {
        "id": "vFlG21W3Vmm3"
      }
    },
    {
      "cell_type": "code",
      "source": [
        "transformer.compile(\n",
        "    optimizer=\"rmsprop\",\n",
        "    loss=\"sparse_categorical_crossentropy\",\n",
        "    metrics=[\"accuracy\"])\n",
        "transformer.fit(train_ds, epochs=30, validation_data=val_ds)\n"
      ],
      "metadata": {
        "colab": {
          "base_uri": "https://localhost:8080/"
        },
        "id": "CLT6cQoWVkj9",
        "outputId": "5e51b3d7-de9c-473e-b1ce-0db2620bbeef"
      },
      "execution_count": 16,
      "outputs": [
        {
          "output_type": "stream",
          "name": "stdout",
          "text": [
            "Epoch 1/30\n",
            "1302/1302 [==============================] - 98s 72ms/step - loss: 1.6411 - accuracy: 0.4312 - val_loss: 1.3243 - val_accuracy: 0.5159\n",
            "Epoch 2/30\n",
            "1302/1302 [==============================] - 94s 72ms/step - loss: 1.3363 - accuracy: 0.5331 - val_loss: 1.1810 - val_accuracy: 0.5716\n",
            "Epoch 3/30\n",
            "1302/1302 [==============================] - 93s 72ms/step - loss: 1.1981 - accuracy: 0.5762 - val_loss: 1.0960 - val_accuracy: 0.5987\n",
            "Epoch 4/30\n",
            "1302/1302 [==============================] - 93s 72ms/step - loss: 1.1133 - accuracy: 0.6060 - val_loss: 1.0511 - val_accuracy: 0.6178\n",
            "Epoch 5/30\n",
            "1302/1302 [==============================] - 93s 72ms/step - loss: 1.0655 - accuracy: 0.6273 - val_loss: 1.0328 - val_accuracy: 0.6263\n",
            "Epoch 6/30\n",
            "1302/1302 [==============================] - 94s 72ms/step - loss: 1.0348 - accuracy: 0.6432 - val_loss: 1.0262 - val_accuracy: 0.6338\n",
            "Epoch 7/30\n",
            "1302/1302 [==============================] - 94s 72ms/step - loss: 1.0131 - accuracy: 0.6561 - val_loss: 1.0092 - val_accuracy: 0.6414\n",
            "Epoch 8/30\n",
            "1302/1302 [==============================] - 95s 73ms/step - loss: 0.9961 - accuracy: 0.6656 - val_loss: 1.0124 - val_accuracy: 0.6429\n",
            "Epoch 9/30\n",
            "1302/1302 [==============================] - 93s 72ms/step - loss: 0.9811 - accuracy: 0.6743 - val_loss: 1.0070 - val_accuracy: 0.6460\n",
            "Epoch 10/30\n",
            "1302/1302 [==============================] - 94s 72ms/step - loss: 0.9681 - accuracy: 0.6816 - val_loss: 1.0071 - val_accuracy: 0.6482\n",
            "Epoch 11/30\n",
            "1302/1302 [==============================] - 94s 72ms/step - loss: 0.9553 - accuracy: 0.6884 - val_loss: 1.0014 - val_accuracy: 0.6527\n",
            "Epoch 12/30\n",
            "1302/1302 [==============================] - 94s 72ms/step - loss: 0.9441 - accuracy: 0.6938 - val_loss: 1.0014 - val_accuracy: 0.6518\n",
            "Epoch 13/30\n",
            "1302/1302 [==============================] - 94s 72ms/step - loss: 0.9327 - accuracy: 0.6987 - val_loss: 1.0135 - val_accuracy: 0.6517\n",
            "Epoch 14/30\n",
            "1302/1302 [==============================] - 94s 72ms/step - loss: 0.9224 - accuracy: 0.7037 - val_loss: 0.9998 - val_accuracy: 0.6561\n",
            "Epoch 15/30\n",
            "1302/1302 [==============================] - 93s 72ms/step - loss: 0.9125 - accuracy: 0.7077 - val_loss: 1.0023 - val_accuracy: 0.6590\n",
            "Epoch 16/30\n",
            "1302/1302 [==============================] - 93s 71ms/step - loss: 0.9041 - accuracy: 0.7110 - val_loss: 0.9974 - val_accuracy: 0.6585\n",
            "Epoch 17/30\n",
            "1302/1302 [==============================] - 94s 72ms/step - loss: 0.8948 - accuracy: 0.7150 - val_loss: 0.9976 - val_accuracy: 0.6605\n",
            "Epoch 18/30\n",
            "1302/1302 [==============================] - 94s 72ms/step - loss: 0.8860 - accuracy: 0.7189 - val_loss: 1.0018 - val_accuracy: 0.6600\n",
            "Epoch 19/30\n",
            "1302/1302 [==============================] - 94s 73ms/step - loss: 0.8758 - accuracy: 0.7223 - val_loss: 1.0076 - val_accuracy: 0.6574\n",
            "Epoch 20/30\n",
            "1302/1302 [==============================] - 94s 72ms/step - loss: 0.8689 - accuracy: 0.7250 - val_loss: 1.0118 - val_accuracy: 0.6622\n",
            "Epoch 21/30\n",
            "1302/1302 [==============================] - 92s 71ms/step - loss: 0.8612 - accuracy: 0.7285 - val_loss: 1.0149 - val_accuracy: 0.6607\n",
            "Epoch 22/30\n",
            "1302/1302 [==============================] - 92s 71ms/step - loss: 0.8534 - accuracy: 0.7305 - val_loss: 1.0151 - val_accuracy: 0.6622\n",
            "Epoch 23/30\n",
            "1302/1302 [==============================] - 92s 70ms/step - loss: 0.8457 - accuracy: 0.7337 - val_loss: 1.0178 - val_accuracy: 0.6573\n",
            "Epoch 24/30\n",
            "1302/1302 [==============================] - 93s 71ms/step - loss: 0.8390 - accuracy: 0.7358 - val_loss: 1.0201 - val_accuracy: 0.6605\n",
            "Epoch 25/30\n",
            "1302/1302 [==============================] - 94s 72ms/step - loss: 0.8317 - accuracy: 0.7390 - val_loss: 1.0217 - val_accuracy: 0.6642\n",
            "Epoch 26/30\n",
            "1302/1302 [==============================] - 94s 72ms/step - loss: 0.8258 - accuracy: 0.7404 - val_loss: 1.0231 - val_accuracy: 0.6602\n",
            "Epoch 27/30\n",
            "1302/1302 [==============================] - 93s 72ms/step - loss: 0.8192 - accuracy: 0.7432 - val_loss: 1.0189 - val_accuracy: 0.6617\n",
            "Epoch 28/30\n",
            "1302/1302 [==============================] - 93s 72ms/step - loss: 0.8128 - accuracy: 0.7454 - val_loss: 1.0335 - val_accuracy: 0.6604\n",
            "Epoch 29/30\n",
            "1302/1302 [==============================] - 92s 70ms/step - loss: 0.8069 - accuracy: 0.7475 - val_loss: 1.0274 - val_accuracy: 0.6631\n",
            "Epoch 30/30\n",
            "1302/1302 [==============================] - 92s 70ms/step - loss: 0.8013 - accuracy: 0.7497 - val_loss: 1.0410 - val_accuracy: 0.6648\n"
          ]
        },
        {
          "output_type": "execute_result",
          "data": {
            "text/plain": [
              "<keras.callbacks.History at 0x7f90d0676340>"
            ]
          },
          "metadata": {},
          "execution_count": 16
        }
      ]
    },
    {
      "cell_type": "markdown",
      "source": [
        "**Translating new sentences with our Transformer model**"
      ],
      "metadata": {
        "id": "ZR0ztiZxj7Rl"
      }
    },
    {
      "cell_type": "code",
      "source": [
        "import numpy as np\n",
        "spa_vocab = target_vectorization.get_vocabulary()\n",
        "spa_index_lookup = dict(zip(range(len(spa_vocab)), spa_vocab))\n",
        "max_decoded_sentence_length = 20\n",
        "\n",
        "def decode_sequence(input_sentence):\n",
        "    tokenized_input_sentence = source_vectorization([input_sentence])\n",
        "    decoded_sentence = \"[start]\"\n",
        "    for i in range(max_decoded_sentence_length):\n",
        "        tokenized_target_sentence = target_vectorization(\n",
        "            [decoded_sentence])[:, :-1]\n",
        "        predictions = transformer(\n",
        "            [tokenized_input_sentence, tokenized_target_sentence])\n",
        "        sampled_token_index = np.argmax(predictions[0, i, :])\n",
        "        sampled_token = spa_index_lookup[sampled_token_index]\n",
        "        decoded_sentence += \" \" + sampled_token\n",
        "        if sampled_token == \"[end]\":\n",
        "            break\n",
        "    return decoded_sentence\n",
        "\n",
        "test_eng_texts = [pair[0] for pair in test_pairs]\n",
        "for _ in range(20):\n",
        "    input_sentence = random.choice(test_eng_texts)\n",
        "    print(\"-\")\n",
        "    print(input_sentence)\n",
        "    print(decode_sequence(input_sentence))\n"
      ],
      "metadata": {
        "colab": {
          "base_uri": "https://localhost:8080/"
        },
        "id": "4fdr89EVVrDo",
        "outputId": "1ce6747a-81b4-45f1-df38-d24b958f7d0a"
      },
      "execution_count": 17,
      "outputs": [
        {
          "output_type": "stream",
          "name": "stdout",
          "text": [
            "-\n",
            "I prefer spring to summer.\n",
            "[start] preferiría el año de primavera [end]\n",
            "-\n",
            "I didn't feel like scolding her for being late.\n",
            "[start] no tenía ganas de que [UNK] su una tarea [end]\n",
            "-\n",
            "I'm not as young as I used to be.\n",
            "[start] no soy tan joven como solía ser [end]\n",
            "-\n",
            "I looked for the key under the welcome mat and in the nearby flower pot.\n",
            "[start] yo me quedé esperando su llave en la [UNK] y en la habitación en la habitación en la [UNK] [end]\n",
            "-\n",
            "Who gave you this?\n",
            "[start] quién te ha dicho esto [end]\n",
            "-\n",
            "Give me a hundred dollars.\n",
            "[start] dame una [UNK] [end]\n",
            "-\n",
            "We do all kinds of repairs.\n",
            "[start] todos hemos tenido clase de la que [UNK] [end]\n",
            "-\n",
            "He's a friend from work.\n",
            "[start] Él es un amigo trabajo [end]\n",
            "-\n",
            "Tom's sister Mary is now in Boston.\n",
            "[start] la hermana de tom ahora está en boston [end]\n",
            "-\n",
            "I do not feel like drinking beer tonight.\n",
            "[start] no tengo ganas de beber esta noche [end]\n",
            "-\n",
            "Things are fine.\n",
            "[start] las cosas están [UNK] [end]\n",
            "-\n",
            "I need to get to work.\n",
            "[start] necesito hacer el trabajo [end]\n",
            "-\n",
            "He insists on playing another game.\n",
            "[start] Él [UNK] jugar al juego [end]\n",
            "-\n",
            "We're ready to leave.\n",
            "[start] estamos libre de salir [end]\n",
            "-\n",
            "I hid myself under the bed.\n",
            "[start] me [UNK] en la cama [end]\n",
            "-\n",
            "Mary has already left on her trip.\n",
            "[start] mary ya se fue de viaje [end]\n",
            "-\n",
            "The front brakes don't work.\n",
            "[start] el frente no funciona [end]\n",
            "-\n",
            "Have a good time on your date.\n",
            "[start] tengo una buena [UNK] para tu cita [end]\n",
            "-\n",
            "I'll give you Dr. Shiegal's telephone number.\n",
            "[start] te de este teléfono el número pasado [end]\n",
            "-\n",
            "Why do you know so much about Australia?\n",
            "[start] por qué sabes tanto acerca de australia [end]\n"
          ]
        }
      ]
    },
    {
      "cell_type": "markdown",
      "source": [
        "Sequence-to-sequence learning with Transformer First, we defined The TransformerDecoder and The TransformerEncoder and Putting it all together: A Transformer for machine translation, we trained the sequence-to-sequence Transformer, Finally, translated new sentences with our Transformer mode\n",
        "\n",
        "**Summary**"
      ],
      "metadata": {
        "id": "cwc320kPkOLb"
      }
    },
    {
      "cell_type": "code",
      "source": [],
      "metadata": {
        "id": "DbFC4k-ekF92"
      },
      "execution_count": null,
      "outputs": []
    }
  ]
}