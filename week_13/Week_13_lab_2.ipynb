{
  "nbformat": 4,
  "nbformat_minor": 0,
  "metadata": {
    "colab": {
      "provenance": [],
      "authorship_tag": "ABX9TyMFe5o2Tw0ijL2TpZJcSQbI",
      "include_colab_link": true
    },
    "kernelspec": {
      "name": "python3",
      "display_name": "Python 3"
    },
    "language_info": {
      "name": "python"
    },
    "accelerator": "GPU",
    "gpuClass": "standard"
  },
  "cells": [
    {
      "cell_type": "markdown",
      "metadata": {
        "id": "view-in-github",
        "colab_type": "text"
      },
      "source": [
        "<a href=\"https://colab.research.google.com/github/Abdullokh3/AI_Application_final_exam/blob/main/week_13/Week_13_lab_2.ipynb\" target=\"_parent\"><img src=\"https://colab.research.google.com/assets/colab-badge.svg\" alt=\"Open In Colab\"/></a>"
      ]
    },
    {
      "cell_type": "code",
      "execution_count": null,
      "metadata": {
        "colab": {
          "base_uri": "https://localhost:8080/"
        },
        "id": "U8sXkoPxLwna",
        "outputId": "574c7015-9bc8-4c3b-aa54-2628fb7193f0"
      },
      "outputs": [
        {
          "output_type": "stream",
          "name": "stdout",
          "text": [
            "  % Total    % Received % Xferd  Average Speed   Time    Time     Time  Current\n",
            "                                 Dload  Upload   Total   Spent    Left  Speed\n",
            "100 80.2M  100 80.2M    0     0  9257k      0  0:00:08  0:00:08 --:--:-- 15.4M\n"
          ]
        }
      ],
      "source": [
        "!curl -O https://ai.stanford.edu/~amaas/data/sentiment/aclImdb_v1.tar.gz\n",
        "!tar -xf aclImdb_v1.tar.gz\n",
        "!rm -r aclImdb/train/unsup"
      ]
    },
    {
      "cell_type": "code",
      "source": [
        "import os, pathlib, shutil, random\n",
        "from tensorflow import keras\n",
        "batch_size = 32\n",
        "base_dir = pathlib.Path(\"aclImdb\")\n",
        "val_dir = base_dir / \"val\"\n",
        "train_dir = base_dir / \"train\"\n",
        "for category in (\"neg\", \"pos\"):\n",
        "  os.makedirs(val_dir / category)\n",
        "  files = os.listdir(train_dir / category)\n",
        "  random. Random( 1337).shuffle(files)\n",
        "  num_val_samples = int(0.2 * len(files))\n",
        "  val_files = files[-num_val_samples:]\n",
        "  for fname in val_files:\n",
        "    shutil.move(train_dir / category / fname,\n",
        "    val_dir / category / fname)\n",
        "\n",
        "train_ds = keras.utils.text_dataset_from_directory(\n",
        "  \"aclImdb/train\", batch_size=batch_size\n",
        ")\n",
        "val_ds = keras.utils.text_dataset_from_directory(\n",
        "  \"aclImdb/val\", batch_size=batch_size\n",
        ")\n",
        "test_ds = keras.utils.text_dataset_from_directory(\n",
        "  \"aclImdb/test\", batch_size=batch_size\n",
        ")\n",
        "text_only_train_ds = train_ds.map(lambda x, y: x)"
      ],
      "metadata": {
        "colab": {
          "base_uri": "https://localhost:8080/"
        },
        "id": "r1jcypIOMFRH",
        "outputId": "f21adf1e-9e91-4900-c658-44adc5aceed2"
      },
      "execution_count": null,
      "outputs": [
        {
          "output_type": "stream",
          "name": "stdout",
          "text": [
            "Found 20000 files belonging to 2 classes.\n",
            "Found 5000 files belonging to 2 classes.\n",
            "Found 25000 files belonging to 2 classes.\n"
          ]
        }
      ]
    },
    {
      "cell_type": "code",
      "source": [
        "from tensorflow.keras import layers\n",
        "max_length = 600\n",
        "max_tokens = 20000\n",
        "text_vectorization = layers.TextVectorization(\n",
        "  max_tokens=max_tokens,\n",
        "  output_mode=\"int\",\n",
        "  output_sequence_length=max_length,\n",
        ")\n",
        "text_vectorization.adapt(text_only_train_ds)\n",
        "\n",
        "int_train_ds = train_ds.map(\n",
        "  lambda x, y: (text_vectorization(x), y),\n",
        "  num_parallel_calls=4)\n",
        "int_val_ds = val_ds.map(\n",
        "  lambda x, y: (text_vectorization(x), y),\n",
        "  num_parallel_calls=4)\n",
        "int_test_ds = test_ds.map(\n",
        "  lambda x, y: (text_vectorization(x), y),\n",
        "  num_parallel_calls=4)\n"
      ],
      "metadata": {
        "id": "Fi4Z01KnMLct"
      },
      "execution_count": null,
      "outputs": []
    },
    {
      "cell_type": "code",
      "source": [
        "import tensorflow as tf\n",
        "inputs = keras.Input(shape=(None,), dtype=\"int64\")\n",
        "embedded = tf.one_hot(inputs, depth=max_tokens)\n",
        "x = layers.Bidirectional(layers.LSTM(32)) (embedded)\n",
        "x = layers.Dropout(0.5)(x)\n",
        "outputs = layers.Dense(1, activation=\"sigmoid\") (x)\n",
        "model = keras.Model(inputs, outputs)\n",
        "model. compile(optimizer=\"rmsprop\",\n",
        "  loss=\"binary_crossentropy\",\n",
        "  metrics=[\"accuracy\"])\n",
        "model. summary ()"
      ],
      "metadata": {
        "colab": {
          "base_uri": "https://localhost:8080/"
        },
        "id": "yEYCJdBmMYZH",
        "outputId": "c39dff86-50c7-43dc-ee48-e15549e3c4e3"
      },
      "execution_count": null,
      "outputs": [
        {
          "output_type": "stream",
          "name": "stdout",
          "text": [
            "Model: \"model\"\n",
            "_________________________________________________________________\n",
            " Layer (type)                Output Shape              Param #   \n",
            "=================================================================\n",
            " input_1 (InputLayer)        [(None, None)]            0         \n",
            "                                                                 \n",
            " tf.one_hot (TFOpLambda)     (None, None, 20000)       0         \n",
            "                                                                 \n",
            " bidirectional (Bidirectiona  (None, 64)               5128448   \n",
            " l)                                                              \n",
            "                                                                 \n",
            " dropout (Dropout)           (None, 64)                0         \n",
            "                                                                 \n",
            " dense (Dense)               (None, 1)                 65        \n",
            "                                                                 \n",
            "=================================================================\n",
            "Total params: 5,128,513\n",
            "Trainable params: 5,128,513\n",
            "Non-trainable params: 0\n",
            "_________________________________________________________________\n"
          ]
        }
      ]
    },
    {
      "cell_type": "code",
      "source": [
        "callbacks = [\n",
        "  keras.callbacks.ModelCheckpoint(\"one_hot_bidir_lstm.keras\",\n",
        "                                    save_best_only=True)\n",
        "]\n",
        "model. fit(int_train_ds, validation_data=int_val_ds, epochs=10, callbacks=callbacks)\n",
        "model = keras.models.load_model(\"one_hot_bidir_lstm.keras\")\n",
        "print(f\"Test acc: {model.evaluate(int_test_ds)[1]:.3f}\")\n"
      ],
      "metadata": {
        "colab": {
          "base_uri": "https://localhost:8080/"
        },
        "id": "Y_ht0cR9McNr",
        "outputId": "d4111710-9913-4f0d-8bc9-8b958140e91c"
      },
      "execution_count": null,
      "outputs": [
        {
          "output_type": "stream",
          "name": "stdout",
          "text": [
            "Epoch 1/10\n",
            "625/625 [==============================] - 170s 259ms/step - loss: 0.5339 - accuracy: 0.7499 - val_loss: 0.3831 - val_accuracy: 0.8604\n",
            "Epoch 2/10\n",
            "625/625 [==============================] - 166s 266ms/step - loss: 0.3692 - accuracy: 0.8669 - val_loss: 0.3069 - val_accuracy: 0.8854\n",
            "Epoch 3/10\n",
            "625/625 [==============================] - 166s 265ms/step - loss: 0.2777 - accuracy: 0.9047 - val_loss: 0.3245 - val_accuracy: 0.8910\n",
            "Epoch 4/10\n",
            "625/625 [==============================] - 166s 266ms/step - loss: 0.2367 - accuracy: 0.9185 - val_loss: 0.2916 - val_accuracy: 0.8924\n",
            "Epoch 5/10\n",
            "625/625 [==============================] - 167s 266ms/step - loss: 0.2007 - accuracy: 0.9324 - val_loss: 0.2800 - val_accuracy: 0.8904\n",
            "Epoch 6/10\n",
            "625/625 [==============================] - 169s 270ms/step - loss: 0.1767 - accuracy: 0.9420 - val_loss: 0.3153 - val_accuracy: 0.8954\n",
            "Epoch 7/10\n",
            "625/625 [==============================] - 168s 269ms/step - loss: 0.1572 - accuracy: 0.9499 - val_loss: 0.3942 - val_accuracy: 0.8836\n",
            "Epoch 8/10\n",
            "625/625 [==============================] - 168s 269ms/step - loss: 0.1335 - accuracy: 0.9572 - val_loss: 0.3732 - val_accuracy: 0.8894\n",
            "Epoch 9/10\n",
            "625/625 [==============================] - 168s 269ms/step - loss: 0.1057 - accuracy: 0.9666 - val_loss: 0.3743 - val_accuracy: 0.8822\n",
            "Epoch 10/10\n",
            "625/625 [==============================] - 168s 268ms/step - loss: 0.0925 - accuracy: 0.9714 - val_loss: 0.4424 - val_accuracy: 0.8696\n",
            "782/782 [==============================] - 103s 130ms/step - loss: 0.3139 - accuracy: 0.8750\n",
            "Test acc: 0.875\n"
          ]
        }
      ]
    },
    {
      "cell_type": "code",
      "source": [
        "!wget http://nlp.stanford.edu/data/glove.6B.zip\n",
        "!unzip -q glove.6B.zip"
      ],
      "metadata": {
        "id": "uiOZFS5wMhfj",
        "colab": {
          "base_uri": "https://localhost:8080/"
        },
        "outputId": "ecf58287-a57a-4930-a301-310b39139ac0"
      },
      "execution_count": null,
      "outputs": [
        {
          "output_type": "stream",
          "name": "stdout",
          "text": [
            "--2022-11-30 09:49:36--  http://nlp.stanford.edu/data/glove.6B.zip\n",
            "Resolving nlp.stanford.edu (nlp.stanford.edu)... 171.64.67.140\n",
            "Connecting to nlp.stanford.edu (nlp.stanford.edu)|171.64.67.140|:80... connected.\n",
            "HTTP request sent, awaiting response... 302 Found\n",
            "Location: https://nlp.stanford.edu/data/glove.6B.zip [following]\n",
            "--2022-11-30 09:49:37--  https://nlp.stanford.edu/data/glove.6B.zip\n",
            "Connecting to nlp.stanford.edu (nlp.stanford.edu)|171.64.67.140|:443... connected.\n",
            "HTTP request sent, awaiting response... 301 Moved Permanently\n",
            "Location: https://downloads.cs.stanford.edu/nlp/data/glove.6B.zip [following]\n",
            "--2022-11-30 09:49:37--  https://downloads.cs.stanford.edu/nlp/data/glove.6B.zip\n",
            "Resolving downloads.cs.stanford.edu (downloads.cs.stanford.edu)... 171.64.64.22\n",
            "Connecting to downloads.cs.stanford.edu (downloads.cs.stanford.edu)|171.64.64.22|:443... connected.\n",
            "HTTP request sent, awaiting response... 200 OK\n",
            "Length: 862182613 (822M) [application/zip]\n",
            "Saving to: ‘glove.6B.zip’\n",
            "\n",
            "glove.6B.zip        100%[===================>] 822.24M  5.10MB/s    in 2m 40s  \n",
            "\n",
            "2022-11-30 09:52:18 (5.14 MB/s) - ‘glove.6B.zip’ saved [862182613/862182613]\n",
            "\n"
          ]
        }
      ]
    },
    {
      "cell_type": "code",
      "source": [
        "import numpy as np\n",
        "path_to_glove_file = \"glove.6B.100d.txt\"\n",
        "\n",
        "embeddings_index = {}\n",
        "with open(path_to_glove_file) as f:\n",
        "  for line in f:\n",
        "    word, coefs = line.split(maxsplit=1)\n",
        "    coefs = np.fromstring(coefs, \"f\", sep=\" \")\n",
        "    embeddings_index[word] = coefs\n",
        "\n",
        "print(f\"Found {len(embeddings_index)} word vectors.\")"
      ],
      "metadata": {
        "colab": {
          "base_uri": "https://localhost:8080/"
        },
        "id": "sgShccpQ8RRY",
        "outputId": "be2f3866-b4bc-4307-96fc-74bab8f720fd"
      },
      "execution_count": null,
      "outputs": [
        {
          "output_type": "stream",
          "name": "stdout",
          "text": [
            "Found 400000 word vectors.\n"
          ]
        }
      ]
    },
    {
      "cell_type": "code",
      "source": [
        "embedding_dim = 100\n",
        "\n",
        "vocabulary = text_vectorization.get_vocabulary()\n",
        "word_index = dict(zip(vocabulary, range(len(vocabulary))))\n",
        "\n",
        "embedding_matrix = np.zeros((max_tokens, embedding_dim))\n",
        "for word, i in word_index.items():\n",
        "  if i < max_tokens:\n",
        "    embedding_vector = embeddings_index.get (word)\n",
        "if embedding_vector is not None:\n",
        "  embedding_matrix[i] = embedding_vector"
      ],
      "metadata": {
        "id": "mDzAPrgN-8Pg"
      },
      "execution_count": null,
      "outputs": []
    },
    {
      "cell_type": "code",
      "source": [
        "embedding_layer = layers. Embedding(\n",
        "  max_tokens,\n",
        "  embedding_dim,\n",
        "  embeddings_initializer=keras.initializers.Constant(embedding_matrix),\n",
        "  trainable=False,\n",
        "  mask_zero=True,\n",
        ")"
      ],
      "metadata": {
        "id": "eJ6M5djU-_oA"
      },
      "execution_count": null,
      "outputs": []
    },
    {
      "cell_type": "code",
      "source": [],
      "metadata": {
        "id": "HWPmo3pt_CVQ"
      },
      "execution_count": null,
      "outputs": []
    }
  ]
}